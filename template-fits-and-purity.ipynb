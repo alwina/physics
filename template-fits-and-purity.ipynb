{
 "cells": [
  {
   "cell_type": "markdown",
   "metadata": {},
   "source": [
    "# Import packages"
   ]
  },
  {
   "cell_type": "code",
   "execution_count": null,
   "metadata": {},
   "outputs": [],
   "source": [
    "from array import array\n",
    "import itertools\n",
    "import time\n",
    "\n",
    "import matplotlib.pyplot as plt\n",
    "import numpy as np\n",
    "\n",
    "import astroML.plotting as aml\n",
    "import iminuit\n",
    "import pandas as pd\n",
    "import root_pandas as rpd\n",
    "import ROOT"
   ]
  },
  {
   "cell_type": "markdown",
   "metadata": {
    "collapsed": true
   },
   "source": [
    "# Define template fit and purity"
   ]
  },
  {
   "cell_type": "code",
   "execution_count": null,
   "metadata": {
    "collapsed": true
   },
   "outputs": [],
   "source": [
    "def haveSameLength(*args):\n",
    "    n = len(args[0])\n",
    "    return all(len(l) == n for l in args)\n",
    "\n",
    "def normalize(x):\n",
    "    return np.array(x, dtype='f')/np.sum(x)\n",
    "\n",
    "class TemplateFit:\n",
    "    def __init__(self, data, dataerr, signal, signalerr, bkg, bkgerr, binEdges, verbosity=1):\n",
    "        if not haveSameLength(data, dataerr, signal, signalerr, bkg, bkgerr, binEdges[1:]):\n",
    "            raise ValueError('Inputs do not have the same length (binEdges should have 1 more than the rest)')\n",
    "        \n",
    "        self.data = np.array(data, dtype='f')\n",
    "        self.dataerr = np.array(dataerr, dtype='f')\n",
    "        self.inputSignal = np.array(signal, dtype='f')\n",
    "        self.inputSignalerr = np.array(signalerr, dtype='f')\n",
    "        self.inputBkg = np.array(bkg, dtype='f')\n",
    "        self.inputBkgerr = np.array(bkgerr, dtype='f')\n",
    "        self.binEdges = binEdges\n",
    "        \n",
    "        self.signal = self.inputSignal/np.sum(self.inputSignal)\n",
    "        self.signalerr = self.inputSignalerr/np.sum(self.inputSignal)\n",
    "        self.bkg = self.inputBkg/np.sum(self.inputBkg)\n",
    "        self.bkgerr = self.inputBkgerr/np.sum(self.inputBkg)\n",
    "        self.binCenters = np.array([(hedge+ledge)/2.0 for ledge, hedge in zip(binEdges[:-1], binEdges[1:])])\n",
    "        self.binWidths = np.array([hedge-ledge for ledge, hedge in zip(binEdges[:-1], binEdges[1:])])\n",
    "               \n",
    "        self.signalColor = '#3B7EA1'\n",
    "        self.bkgColor = '#FDB515'\n",
    "        self.figureSize = (10, 10)\n",
    "        \n",
    "        self.verbosity = verbosity\n",
    "               \n",
    "        self.doFit()\n",
    "        \n",
    "    def doFit(self):\n",
    "        def Chi2(N, f):\n",
    "            model = N*(f*self.signal + (1-f)*self.bkg)\n",
    "            return np.sum(np.power(self.data-model, 2.0))\n",
    "\n",
    "        mt = iminuit.Minuit(Chi2, N=np.sum(self.data), f=0.5, error_N=1, error_f=1,\n",
    "                            errordef=1, print_level=self.verbosity)\n",
    "        mt.migrad()\n",
    "        \n",
    "        self.fitN = mt.values['N']\n",
    "        self.fitNerr = mt.errors['N']\n",
    "        self.fitf = mt.values['f']\n",
    "        self.fitferr = mt.errors['f']\n",
    "        \n",
    "        self.fitSignal = self.fitN*self.fitf*self.signal\n",
    "        self.fitSignalerr = self.fitN*self.fitf*self.signalerr\n",
    "        self.fitBkg = self.fitN*(1-self.fitf)*self.bkg\n",
    "        self.fitBkgerr = self.fitN*(1-self.fitf)*self.bkgerr\n",
    "\n",
    "    def getPurity(self, purityMin, purityMax):\n",
    "        purity, pmin, pmax = getPurity(self.signal, self.bkg, self.binEdges, self.fitf, purityMin, purityMax, True)\n",
    "        puritylow = getPurity(self.signal, self.bkg, self.binEdges, self.fitf-self.fitferr, purityMin, purityMax)\n",
    "        purityhigh = getPurity(self.signal, self.bkg, self.binEdges, self.fitf+self.fitferr, purityMin, purityMax)\n",
    "        if self.verbosity == 1:\n",
    "            print 'Purity = %2.5f, +%2.5f, -%2.5f'%(purity, purityhigh-purity, purity-puritylow)\n",
    "        return purity, pmin, pmax\n",
    "        \n",
    "    def plotFit(self, xlabel, title, showPurity=False, purityMin=0.0, purityMax=1.0, newFigure=True):\n",
    "        if newFigure:\n",
    "            plt.figure(figsize=self.figureSize)\n",
    "        plt.errorbar(self.binCenters, self.data, yerr=self.dataerr, label='Data', fmt='ko')\n",
    "        plt.bar(self.binCenters, self.fitSignal, yerr=self.fitSignalerr, width=self.binWidths,\n",
    "                align='center', label='Signal (MC)', capsize=0,\n",
    "                color=self.signalColor, ec=self.signalColor, ecolor=self.signalColor)\n",
    "        plt.bar(self.binCenters, self.fitBkg, yerr=self.fitBkgerr, bottom=self.fitSignal, width=self.binWidths,\n",
    "                align='center', label='Bkg (data) + Signal (MC)', capsize=0,\n",
    "                color=self.bkgColor, ec=self.bkgColor, ecolor=self.bkgColor)\n",
    "        \n",
    "        if showPurity:\n",
    "            purity, pmin, pmax = self.getPurity(purityMin, purityMax)\n",
    "            \n",
    "            ax = plt.gca()\n",
    "            ax.axvspan(self.binCenters[0]-self.binWidths[0]/2.0, self.binCenters[pmin]-self.binWidths[pmin]/2.0,\n",
    "                       color='black', alpha=0.4)\n",
    "            ax.axvspan(self.binCenters[pmax]+self.binWidths[pmax]/2.0, self.binCenters[-1]+self.binWidths[-1]/2.0,\n",
    "                       color='black', alpha=0.4)\n",
    "            plt.suptitle('%s; Purity=%2.2f'%(title, purity))\n",
    "        else:\n",
    "            plt.suptitle(title)\n",
    "\n",
    "        plt.legend(numpoints=1, fontsize=12, loc='best')\n",
    "        plt.xlabel(xlabel)\n",
    "        plt.ylabel('Entries')\n",
    "                \n",
    "        if newFigure:\n",
    "            plt.show()\n",
    "        \n",
    "    def plotResiduals(self, xlabel):\n",
    "        plt.figure(figsize=self.figureSize)\n",
    "        fitTotal = self.fitSignal + self.fitBkg\n",
    "        residuals = np.divide(self.data-fitTotal, self.dataerr)\n",
    "        plt.plot(self.binCenters, residuals, 'o')\n",
    "        plt.xlabel(xlabel)\n",
    "        plt.ylabel('Fit - Data/Dataerr')\n",
    "        plt.show()\n",
    "        \n",
    "    def plotTemplates(self, xlabel):\n",
    "        plt.figure(figsize=(self.figureSize[0], self.figureSize[1]/2.0))\n",
    "        plt.bar(self.binCenters, self.fitSignal, width=self.binWidths, align='center', label='Signal (MC)',\n",
    "                color=self.signalColor, ec=self.signalColor, alpha=0.4)\n",
    "        plt.bar(self.binCenters, self.fitBkg, width=self.binWidths, align='center', label='Background (data)',\n",
    "                color=self.bkgColor, ec=self.bkgColor, alpha=0.4)\n",
    "        plt.xlabel(xlabel)\n",
    "        plt.ylabel('Entries')\n",
    "        plt.legend(loc='best')\n",
    "        plt.show()\n",
    "        \n",
    "    def plotNormalizedTemplates(self, xlabel):\n",
    "        plt.figure(figsize=(self.figureSize[0], self.figureSize[1]/2.0))\n",
    "        plt.bar(self.binCenters, self.signal, width=self.binWidths, align='center', label='Signal (MC)',\n",
    "                color=self.signalColor, ec=self.signalColor, alpha=0.4)\n",
    "        plt.bar(self.binCenters, self.bkg, width=self.binWidths, align='center', label='Background (data)',\n",
    "                color=self.bkgColor, ec=self.bkgColor, alpha=0.4)\n",
    "        plt.xlabel(xlabel)\n",
    "        plt.ylabel('Entries')\n",
    "        plt.legend(loc='best')\n",
    "        plt.show()\n",
    "        \n",
    "def getPurity(signal, bkg, binEdges, frac, purityMin, purityMax, returnRange=False):\n",
    "    # signal and bkg should be normalized to 1\n",
    "    pmin = min([i for i, edge in enumerate(binEdges) if edge >= purityMin])\n",
    "    pmax = max([i for i, edge in enumerate(binEdges) if edge <= purityMax])\n",
    "    purity = np.sum(frac*signal[pmin:pmax])/(np.sum([(1-frac)*bkg[pmin:pmax], frac*signal[pmin:pmax]]))\n",
    "    \n",
    "    if returnRange:\n",
    "        return purity, pmin, pmax\n",
    "    else:\n",
    "        return purity"
   ]
  },
  {
   "cell_type": "markdown",
   "metadata": {},
   "source": [
    "# Define function to perform fits over many datasets and/or templates"
   ]
  },
  {
   "cell_type": "code",
   "execution_count": null,
   "metadata": {
    "collapsed": true
   },
   "outputs": [],
   "source": [
    "def getFitResults(datasets, signals, bkgs, binEdges, pmin=None, pmax=None, verbosity=0, showDistributions=False):\n",
    "    fitfvals, fitNvals, purvals = array('f'), array('f'), array('f')\n",
    "    if pmin == None:\n",
    "        pmin = binEdges[0]\n",
    "    if pmax == None:\n",
    "        pmax = binEdges[-1]\n",
    "        \n",
    "    for (dataset, signal, bkg) in itertools.product(datasets, signals, bkgs):\n",
    "        tf = TemplateFit(dataset, np.sqrt(dataset), signal, np.sqrt(signal),\n",
    "                         bkg, np.sqrt(bkg), binEdges, verbosity=verbosity)\n",
    "        fitfvals.append(tf.fitf)\n",
    "        fitNvals.append(tf.fitN)\n",
    "        purvals.append(tf.getPurity(pmin, pmax)[0])\n",
    "        \n",
    "    if showDistributions:\n",
    "        plt.figure(figsize=(15,6))\n",
    "        plt.subplot(131)\n",
    "        aml.hist(fitfvals, 'knuth')\n",
    "        plt.xlabel('Signal fraction')\n",
    "        plt.subplot(132)\n",
    "        aml.hist(fitNvals, 'knuth')\n",
    "        plt.xlabel('Normalization')\n",
    "        plt.subplot(133)\n",
    "        aml.hist(purvals, 'knuth')\n",
    "        plt.xlabel('Purity')\n",
    "        plt.show()\n",
    "        print 'Number of results: %i'%len(fitfvals)\n",
    "    \n",
    "    return fitfvals, fitNvals, purvals\n",
    "\n",
    "def varyWithinBins(realShape, nVariations):\n",
    "    realShape = np.array(realShape)\n",
    "    return np.random.poisson(lam=realShape, size=(nVariations, realShape.size))"
   ]
  },
  {
   "cell_type": "markdown",
   "metadata": {
    "collapsed": true
   },
   "source": [
    "## Calculate fit uncertainty due to statistical uncertainty on template"
   ]
  },
  {
   "cell_type": "code",
   "execution_count": null,
   "metadata": {
    "collapsed": true
   },
   "outputs": [],
   "source": [
    "def calculateFitUncertainty(data, signal, bkg, binEdges, pmin=None, pmax=None):\n",
    "    signals = varyWithinBins(signal, 100)\n",
    "    bkgs = varyWithinBins(bkg, 100)\n",
    "    fitfvals, fitNvals, purvals = getFitResults([data], signals, bkgs, binEdges, pmin=pmin, pmax=pmax, verbosity=0, showDistributions=True)\n",
    "    print 'Signal fraction: %2.3f, sigma: %2.3f'%(np.mean(fitfvals), np.std(fitfvals))\n",
    "    print 'Normalization: %2.2f, sigma: %2.2f'%(np.mean(fitNvals), np.std(fitNvals))\n",
    "    print 'Purity: %2.5f, sigma: %2.5f'%(np.mean(purvals), np.std(purvals))"
   ]
  },
  {
   "cell_type": "code",
   "execution_count": null,
   "metadata": {
    "collapsed": true
   },
   "outputs": [],
   "source": [
    "def plotFitUncertaintyExamples(data, dataerr, inputSignal, inputBkg, binEdges):\n",
    "    signals = varyWithinBins(inputSignal, 2)\n",
    "    bkgs = varyWithinBins(inputBkg, 2)\n",
    "    plt.figure(figsize=(15,12))\n",
    "    for i, (signal, bkg) in enumerate(itertools.product(signals, bkgs)):\n",
    "        plt.subplot(2,2,i+1)\n",
    "        tf = TemplateFit(data, dataerr, signal, np.sqrt(signal), bkg, np.sqrt(bkg), binEdges, verbosity=0)\n",
    "        tf.plotFit('', '', newFigure=False)\n",
    "        ax = plt.gca()\n",
    "        ax.legend_.remove()\n",
    "        ax.set_ylabel('')\n",
    "    plt.show()"
   ]
  },
  {
   "cell_type": "markdown",
   "metadata": {},
   "source": [
    "## Check closure of template fit"
   ]
  },
  {
   "cell_type": "code",
   "execution_count": null,
   "metadata": {
    "collapsed": true
   },
   "outputs": [],
   "source": [
    "def checkClosure(signal, bkg, binEdges, norm, f, nDatasets, verbosity=0, showDistributions=False):\n",
    "    normSignal = signal/np.sum(signal)\n",
    "    normBkg = bkg/np.sum(bkg)\n",
    "    realShape = norm*(f*normSignal + (1-f)*normBkg)\n",
    "    datasets = varyWithinBins(realShape, nDatasets)\n",
    "    \n",
    "    fitfvals, fitNvals, purvals = getFitResults(datasets, [signal], [bkg], binEdges, verbosity=verbosity, showDistributions=showDistributions)\n",
    "    return {'fmean': np.mean(fitfvals), 'fsigma': np.std(fitfvals), 'ftrue': f,\n",
    "            'Nmean': np.mean(fitNvals), 'Nsigma': np.std(fitNvals)}\n",
    "\n",
    "def checkClosureOverParameters(data, signal, bkg, binEdges, nDatasets):\n",
    "    datanorm = int(np.sum(data))\n",
    "    normvals = [datanorm, datanorm/2, datanorm/4, datanorm*2]\n",
    "    fvals = np.linspace(0.0, 1.0, num=11)\n",
    "\n",
    "    results = {}\n",
    "    for (norm, f) in itertools.product(normvals, fvals):\n",
    "        results[(norm, f)] = checkClosure(signal, bkg, binEdges, norm, f, nDatasets)\n",
    "    \n",
    "    return results, fvals, normvals\n",
    "\n",
    "def plotCheckClosureResults(results, fvals, normvals):\n",
    "    plots = {norm: [] for norm in normvals}\n",
    "    for (norm, f), result in results.iteritems():\n",
    "        plots[norm].append((result['fmean'], result['fsigma'], result['ftrue'], result['Nmean']/norm, result['Nsigma']/norm))\n",
    "\n",
    "    plt.figure(1, figsize=(12,12))\n",
    "    plt.figure(2, figsize=(12,12))\n",
    "    \n",
    "    sortedNorms = sorted(plots.keys())\n",
    "    for i, norm in enumerate(sortedNorms, 1):\n",
    "        fmean, fsigma, ftrue, ratiomean, ratiosigma = zip(*plots[norm])\n",
    "        plt.figure(1)\n",
    "        plt.subplot(2,2,i)\n",
    "        plt.errorbar(ftrue, fmean, fsigma, fmt='ko')\n",
    "        plt.plot([0,1], [0,1], 'y:')\n",
    "        ax = plt.gca()\n",
    "        ax.set_xlim([-0.1, 1.1])\n",
    "        ax.set_ylim([-0.1, 1.1])\n",
    "        ax.text(0.0, 1.0, '%i events'%norm, fontsize=20)\n",
    "        \n",
    "        plt.figure(2)\n",
    "        plt.subplot(2,2,i)\n",
    "        plt.errorbar(ftrue, ratiomean, ratiosigma, fmt='ko')\n",
    "        plt.plot([0,1], [1,1], 'y:')\n",
    "        ax = plt.gca()\n",
    "        ax.set_xlim([-0.1, 1.1])\n",
    "        ax.set_title('%i events'%norm, fontsize=20)\n",
    "        \n",
    "    plt.suptitle('Fit norm/actual norm')\n",
    "    plt.show()"
   ]
  },
  {
   "cell_type": "markdown",
   "metadata": {},
   "source": [
    "# Directly define test histograms\n",
    "Run one or the other of these to set global variables that can be used below"
   ]
  },
  {
   "cell_type": "markdown",
   "metadata": {},
   "source": [
    "## NN data"
   ]
  },
  {
   "cell_type": "code",
   "execution_count": null,
   "metadata": {
    "scrolled": false
   },
   "outputs": [],
   "source": [
    "dataiso = [float(x) for x in '104.   73.  113.   81.  119.  147.  139.  120.  163.  220.  200.  200.\\\n",
    "  250.  246.  283.  296.  365.  368.  353.  333.  154.   85.   77.   68.\\\n",
    "   63.   71.   50.   66.   62.   51.   57.   36.   41.   38.   54.   54.\\\n",
    "   61.   44.   67.   62.   80.   65.   58.   48.   55.   41.   63.   62.\\\n",
    "   66.   68.   76.   54.   73.   80.   86.  137.  136.  186.  171.  182.\\\n",
    "  187.  152.  149.  169.  142.  138.  149.  147.  128.  126.  154.  146.\\\n",
    "  150.  161.  173.  171.  226.  328.  426.  328.  271.  170.   70.   41.\\\n",
    "   36.   20.    7.    5.    2.    1.    0.    2.    2.    0.    0.    3.\\\n",
    "    1.    1.    2.   25.'.split()]\n",
    "datanoniso = [float(x) for x in '296.  155.  184.  242.  258.  262.  266.  297.  313.  380.  391.  423.\\\n",
    "  498.  579.  617.  708.  664.  719.  798.  681.  270.  179.  184.  177.\\\n",
    "  147.  133.  115.  116.  111.   93.   97.   79.   99.   85.   78.  102.\\\n",
    "   88.  118.  119.  132.   98.  102.   88.   97.   90.   91.   99.   87.\\\n",
    "   97.   99.  105.   88.  113.  109.  105.  166.  184.  221.  234.  184.\\\n",
    "  220.  165.  177.  166.  155.  145.  157.  139.  147.  150.  151.  158.\\\n",
    "  147.  157.  159.  155.  191.  303.  417.  306.  195.  148.   78.   42.\\\n",
    "   27.   20.    6.    9.    7.    1.    5.    6.    6.    4.    4.    4.\\\n",
    "    3.    7.    4.  129.'.split()]\n",
    "signalmc = [float(x) for x in '176.   57.   51.   64.   80.   85.  103.   88.  119.  125.  164.  178.\\\n",
    "  186.  245.  275.  270.  292.  296.  378.  334.  133.  119.   91.  102.\\\n",
    "  103.   75.   67.   56.   77.   75.   49.   61.   72.   43.   74.   78.\\\n",
    "   70.   79.  111.   92.  124.  114.   98.  109.   85.   82.  105.   92.\\\n",
    "   92.   96.   95.  107.   92.  115.  148.  178.  205.  293.  297.  283.\\\n",
    "  211.  253.  245.  255.  239.  226.  233.  237.  226.  189.  246.  227.\\\n",
    "  227.  279.  278.  305.  335.  598.  846.  820.  737.  546.  317.  164.\\\n",
    "   76.   38.   32.    9.   16.   17.   16.   15.   21.   13.   16.   13.\\\n",
    "   16.   15.   21.  171.'.split()]\n",
    "binEdges = [(x/100.0) for x in range(0,101)]\n",
    "\n",
    "dataisoerr = np.sqrt(dataiso)\n",
    "datanonisoerr = np.sqrt(datanoniso)\n",
    "signalmcerr = np.sqrt(signalmc)\n",
    "\n",
    "title = '12 < pT < 14 GeV'\n",
    "xlabel = 'NN1'\n",
    "puritymin = 0.75\n",
    "puritymax = 0.85"
   ]
  },
  {
   "cell_type": "markdown",
   "metadata": {},
   "source": [
    "## $\\lambda_0$ data"
   ]
  },
  {
   "cell_type": "code",
   "execution_count": null,
   "metadata": {
    "scrolled": false
   },
   "outputs": [],
   "source": [
    "dataiso = [float(x) for x in ' 2.00000000e+00   0.00000000e+00   0.00000000e+00   1.00000000e+00\\\n",
    "   0.00000000e+00   0.00000000e+00   1.00000000e+00   6.00000000e+00\\\n",
    "   5.00000000e+00   9.00000000e+00   1.30000000e+01   2.00000000e+01\\\n",
    "   2.50000000e+01   4.40000000e+01   6.30000000e+01   8.60000000e+01\\\n",
    "   1.29000000e+02   2.16000000e+02   2.23000000e+02   3.05000000e+02\\\n",
    "   3.39000000e+02   4.26000000e+02   5.62000000e+02   7.60000000e+02\\\n",
    "   1.06900000e+03   9.23000000e+02   3.66000000e+02   2.94000000e+02\\\n",
    "   2.50000000e+02   2.10000000e+02   1.89000000e+02   1.77000000e+02\\\n",
    "   1.76000000e+02   1.59000000e+02   1.57000000e+02   1.34000000e+02\\\n",
    "   1.25000000e+02   1.51000000e+02   1.23000000e+02   1.18000000e+02\\\n",
    "   1.27000000e+02   1.19000000e+02   1.08000000e+02   1.06000000e+02\\\n",
    "   9.70000000e+01   8.30000000e+01   9.10000000e+01   9.60000000e+01\\\n",
    "   7.40000000e+01   7.90000000e+01   9.60000000e+01   9.00000000e+01\\\n",
    "   7.50000000e+01   7.60000000e+01   7.20000000e+01   1.03000000e+02\\\n",
    "   9.60000000e+01   8.60000000e+01   4.80000000e+01   6.50000000e+01\\\n",
    "   7.80000000e+01   8.60000000e+01   6.10000000e+01   7.60000000e+01\\\n",
    "   7.20000000e+01   6.20000000e+01   8.10000000e+01   6.30000000e+01\\\n",
    "   6.20000000e+01   6.00000000e+01   5.40000000e+01   5.70000000e+01\\\n",
    "   4.50000000e+01   4.40000000e+01   3.90000000e+01   4.00000000e+01\\\n",
    "   5.40000000e+01   4.20000000e+01   3.00000000e+01   4.90000000e+01\\\n",
    "   4.40000000e+01   3.10000000e+01   3.20000000e+01   2.50000000e+01\\\n",
    "   3.80000000e+01   3.20000000e+01   2.80000000e+01   2.90000000e+01\\\n",
    "   2.80000000e+01   2.70000000e+01   1.60000000e+01   2.20000000e+01\\\n",
    "   2.20000000e+01   2.20000000e+01   1.60000000e+01   2.50000000e+01\\\n",
    "   2.00000000e+01   2.00000000e+01   1.20000000e+01   2.30000000e+01'.split()]\n",
    "datanoniso = [float(x) for x in '23.     0.     0.     0.     2.     0.     3.     4.     4.     7.\\\n",
    "    16.    14.    25.    40.    59.    87.   124.   151.   191.   288.\\\n",
    "   366.   442.   568.   694.  1095.  1019.   494.   397.   356.   383.\\\n",
    "   336.   298.   273.   286.   304.   266.   260.   265.   280.   215.\\\n",
    "   214.   255.   235.   219.   205.   201.   198.   187.   196.   205.\\\n",
    "   241.   179.   208.   213.   191.   196.   184.   170.   188.   185.\\\n",
    "   180.   151.   157.   166.   131.   149.   129.   118.   132.   118.\\\n",
    "   115.   112.   105.   106.    96.   108.   102.    81.    85.    89.\\\n",
    "    74.    71.    61.    64.    58.    70.    52.    77.    62.    36.\\\n",
    "    61.    56.    37.    40.    63.    49.    38.    49.    49.    39.'.split()]\n",
    "signalmc = [float(x) for x in '34.     2.     3.     3.     3.     5.     3.    12.    27.    27.\\\n",
    "    49.    58.   105.   157.   185.   238.   319.   390.   412.   545.\\\n",
    "   606.   780.   838.  1175.  1781.  1293.   444.   281.   268.   252.\\\n",
    "   218.   244.   252.   275.   187.   172.   120.   165.   145.   138.\\\n",
    "   130.   145.   118.   148.   134.   114.   122.   113.   108.   105.\\\n",
    "   129.    99.    94.    96.   111.    98.    83.    85.    74.    80.\\\n",
    "    80.    68.    66.    52.    59.    49.    58.    52.    66.    37.\\\n",
    "    45.    45.    30.    46.    34.    38.    29.    25.    40.    40.\\\n",
    "    24.    54.    44.    42.    35.    33.    34.    34.    26.    42.\\\n",
    "    40.    24.    31.    26.    27.    22.    27.    26.    13.    22.'.split()]\n",
    "binEdges = [(x/100.0) for x in range(0,101)]\n",
    "\n",
    "dataisoerr = np.sqrt(dataiso)\n",
    "datanonisoerr = np.sqrt(datanoniso)\n",
    "signalmcerr = np.sqrt(signalmc)\n",
    "\n",
    "title = '12 < pT < 14 GeV'\n",
    "xlabel = '$\\lambda_0$'\n",
    "puritymin = 0.0\n",
    "puritymax = 0.25"
   ]
  },
  {
   "cell_type": "markdown",
   "metadata": {},
   "source": [
    "# Run on test data"
   ]
  },
  {
   "cell_type": "code",
   "execution_count": null,
   "metadata": {
    "scrolled": false
   },
   "outputs": [],
   "source": [
    "tf = TemplateFit(dataiso, dataisoerr, signalmc, signalmcerr, datanoniso, datanonisoerr, binEdges)\n",
    "tf.plotFit(xlabel, title, True, puritymin, puritymax)\n",
    "tf.plotTemplates(xlabel)\n",
    "tf.plotResiduals(xlabel)"
   ]
  },
  {
   "cell_type": "code",
   "execution_count": null,
   "metadata": {},
   "outputs": [],
   "source": [
    "calculateFitUncertainty(dataiso, signalmc, datanoniso, binEdges, puritymin, puritymax)"
   ]
  },
  {
   "cell_type": "code",
   "execution_count": null,
   "metadata": {},
   "outputs": [],
   "source": [
    "plotFitUncertaintyExamples(dataiso, dataisoerr, signalmc, datanoniso, binEdges)"
   ]
  },
  {
   "cell_type": "markdown",
   "metadata": {},
   "source": [
    "The two cells below should be run sequentially. They are split only because the first takes some time to run."
   ]
  },
  {
   "cell_type": "code",
   "execution_count": null,
   "metadata": {
    "collapsed": true
   },
   "outputs": [],
   "source": [
    "closureResults = checkClosureOverParameters(dataiso, signalmc, datanoniso, binEdges, 1000)"
   ]
  },
  {
   "cell_type": "code",
   "execution_count": null,
   "metadata": {},
   "outputs": [],
   "source": [
    "plotCheckClosureResults(*closureResults)"
   ]
  }
 ],
 "metadata": {
  "kernelspec": {
   "display_name": "Python 2",
   "language": "python",
   "name": "python2"
  },
  "language_info": {
   "codemirror_mode": {
    "name": "ipython",
    "version": 2
   },
   "file_extension": ".py",
   "mimetype": "text/x-python",
   "name": "python",
   "nbconvert_exporter": "python",
   "pygments_lexer": "ipython2",
   "version": "2.7.12"
  }
 },
 "nbformat": 4,
 "nbformat_minor": 2
}
